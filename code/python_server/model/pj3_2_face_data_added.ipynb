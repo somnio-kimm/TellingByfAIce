{
 "cells": [
  {
   "cell_type": "markdown",
   "metadata": {
    "id": "dXW6W_n5JCql"
   },
   "source": [
    "## 2. 얼굴 크롭 데이터 추가, 학습\n",
    "\n",
    "\n"
   ]
  },
  {
   "cell_type": "code",
   "execution_count": null,
   "metadata": {
    "id": "m10uZhpt33gP"
   },
   "outputs": [
    {
     "name": "stderr",
     "output_type": "stream",
     "text": [
      "분류별 이미지 정리 중: 100%|█████████▉| 64641/64866 [09:51<00:02, 104.15it/s]"
     ]
    },
    {
     "name": "stdout",
     "output_type": "stream",
     "text": [
      "[경고] 이미지 없음: /workspace/yoons/data5/9 Facial Expressions you need/train/images/10002_jpg.rf.e2afaae9677a56e0acc766fc4c1d4e02.jpg\n",
      "[경고] 이미지 없음: /workspace/yoons/data5/9 Facial Expressions you need/train/images/10002_jpg.rf.931b4d2425dc2f2e1f895de7aebc6678.jpg\n"
     ]
    },
    {
     "name": "stderr",
     "output_type": "stream",
     "text": [
      "분류별 이미지 정리 중: 100%|██████████| 64866/64866 [09:53<00:00, 109.31it/s]\n"
     ]
    }
   ],
   "source": [
    "#이미 크롭된 이미지. yolo 파일 형식이므로, 여기에서 필요한 4개 감정만 선별해 폴더로 정리.\n",
    "#https://www.kaggle.com/datasets/aklimarimi/8-facial-expressions-for-yolo/data\n",
    "\n",
    "import os\n",
    "import shutil\n",
    "from tqdm import tqdm\n",
    "\n",
    "# 클래스 ID → 이름 매핑\n",
    "class_map = {\n",
    "    0: 'angry',\n",
    "    4: 'happy',\n",
    "    6: 'sad',\n",
    "    8: 'surprised'\n",
    "}\n",
    "\n",
    "# 경로 설정\n",
    "root_dir = '/workspace/yoons/data5/9 Facial Expressions you need/train'\n",
    "img_dir = os.path.join(root_dir, 'images')\n",
    "label_dir = os.path.join(root_dir, 'labels')\n",
    "\n",
    "output_root = '/workspace/yoons/data5/cropped_images/train'\n",
    "os.makedirs(output_root, exist_ok=True)\n",
    "\n",
    "# 클래스별 폴더 생성\n",
    "for class_name in class_map.values():\n",
    "    os.makedirs(os.path.join(output_root, class_name), exist_ok=True)\n",
    "\n",
    "# 처리 시작\n",
    "label_files = [f for f in os.listdir(label_dir) if f.endswith('.txt')]\n",
    "\n",
    "for label_file in tqdm(label_files, desc=\"분류별 이미지 정리 중\"):\n",
    "    label_path = os.path.join(label_dir, label_file)\n",
    "    with open(label_path, 'r') as f:\n",
    "        line = f.readline().strip()\n",
    "        if not line:\n",
    "            continue\n",
    "        class_id = int(line.split()[0])\n",
    "\n",
    "    if class_id not in class_map:\n",
    "        continue\n",
    "\n",
    "    class_name = class_map[class_id]\n",
    "    base_name = os.path.splitext(label_file)[0]\n",
    "    img_file = base_name + '.jpg'\n",
    "    src_img_path = os.path.join(img_dir, img_file)\n",
    "    dst_img_path = os.path.join(output_root, class_name, img_file)\n",
    "\n",
    "    if os.path.exists(src_img_path):\n",
    "        shutil.copy(src_img_path, dst_img_path)\n",
    "    else:\n",
    "        print(f\"[경고] 이미지 없음: {src_img_path}\")\n"
   ]
  },
  {
   "cell_type": "code",
   "execution_count": 4,
   "metadata": {},
   "outputs": [
    {
     "name": "stderr",
     "output_type": "stream",
     "text": [
      "angry → anger 복사 중:   0%|          | 35/11193 [00:00<01:38, 113.43it/s]"
     ]
    },
    {
     "name": "stderr",
     "output_type": "stream",
     "text": [
      "angry → anger 복사 중: 100%|██████████| 11193/11193 [01:44<00:00, 106.99it/s]\n",
      "sad → sadness 복사 중: 100%|██████████| 11969/11969 [02:13<00:00, 89.68it/s] \n",
      "surprised → panic 복사 중: 100%|██████████| 8960/8960 [01:37<00:00, 91.72it/s] \n",
      "happy → happy 복사 중: 100%|██████████| 13831/13831 [01:52<00:00, 123.24it/s]\n"
     ]
    }
   ],
   "source": [
    "# 매핑 정의\n",
    "class_mapping = {\n",
    "    'angry': 'anger',\n",
    "    'sad': 'sadness',\n",
    "    'surprised': 'panic',\n",
    "    'happy': 'happy'\n",
    "}\n",
    "\n",
    "# 경로 설정\n",
    "src_root = '/workspace/yoons/data5/cropped_images/train'\n",
    "dst_root = '/workspace/yoons/data/cropped_images/train'\n",
    "\n",
    "# 복사 시작\n",
    "for src_class, dst_class in class_mapping.items():\n",
    "    src_dir = os.path.join(src_root, src_class)\n",
    "    dst_dir = os.path.join(dst_root, dst_class)\n",
    "\n",
    "    os.makedirs(dst_dir, exist_ok=True)\n",
    "\n",
    "    img_files = [f for f in os.listdir(src_dir) if f.lower().endswith(('.jpg', '.jpeg', '.png'))]\n",
    "\n",
    "    for img_file in tqdm(img_files, desc=f\"{src_class} → {dst_class} 복사 중\"):\n",
    "        src_img_path = os.path.join(src_dir, img_file)\n",
    "        dst_img_path = os.path.join(dst_dir, img_file)\n",
    "\n",
    "        # 중복 방지: 동일 이름 파일이 이미 있으면 패스 또는 이름 변경 가능\n",
    "        if os.path.exists(dst_img_path):\n",
    "            base, ext = os.path.splitext(img_file)\n",
    "            count = 1\n",
    "            while os.path.exists(dst_img_path):\n",
    "                new_name = f\"{base}_{count}{ext}\"\n",
    "                dst_img_path = os.path.join(dst_dir, new_name)\n",
    "                count += 1\n",
    "\n",
    "        shutil.copy(src_img_path, dst_img_path)\n"
   ]
  },
  {
   "cell_type": "code",
   "execution_count": 41,
   "metadata": {},
   "outputs": [
    {
     "data": {
      "text/plain": [
       "'happy'"
      ]
     },
     "execution_count": 41,
     "metadata": {},
     "output_type": "execute_result"
    }
   ],
   "source": [
    "os.listdir(input_root)[-1]"
   ]
  },
  {
   "cell_type": "code",
   "execution_count": null,
   "metadata": {},
   "outputs": [
    {
     "name": "stdout",
     "output_type": "stream",
     "text": [
      "Train cropped images count: 58292\n"
     ]
    }
   ],
   "source": [
    "# /workspace/yoons/data/cropped_images/train 폴더 내 파일 수 확인\n",
    "\n",
    "def count_files_in_directory(directory):\n",
    "    return sum(len(files) for _, _, files in os.walk(directory))\n",
    "train_cropped_dir = \"/workspace/yoons/data/cropped_images/train\"\n",
    "train_file_count = count_files_in_directory(train_cropped_dir)\n",
    "print(f\"Train cropped images count: {train_file_count}\")\n"
   ]
  },
  {
   "cell_type": "code",
   "execution_count": 7,
   "metadata": {
    "colab": {
     "base_uri": "https://localhost:8080/"
    },
    "id": "jEemFvzd8mm6",
    "outputId": "3498b9cc-ac19-4594-a3c9-f9f1aa9623a1"
   },
   "outputs": [
    {
     "name": "stderr",
     "output_type": "stream",
     "text": [
      "분류별 이미지 정리 중:  27%|██▋       | 467/1720 [00:03<00:07, 159.43it/s]"
     ]
    },
    {
     "name": "stderr",
     "output_type": "stream",
     "text": [
      "분류별 이미지 정리 중: 100%|██████████| 1720/1720 [00:14<00:00, 122.75it/s]\n"
     ]
    }
   ],
   "source": [
    "#val도\n",
    "\n",
    "# 클래스 ID → 이름 매핑\n",
    "class_map = {\n",
    "    0: 'angry',\n",
    "    4: 'happy',\n",
    "    6: 'sad',\n",
    "    8: 'surprised'\n",
    "}\n",
    "\n",
    "# 경로 설정\n",
    "root_dir = '/workspace/yoons/data5/9 Facial Expressions you need/valid'\n",
    "img_dir = os.path.join(root_dir, 'images')\n",
    "label_dir = os.path.join(root_dir, 'labels')\n",
    "\n",
    "output_root = '/workspace/yoons/data5/cropped_images/val'\n",
    "os.makedirs(output_root, exist_ok=True)\n",
    "\n",
    "# 클래스별 폴더 생성\n",
    "for class_name in class_map.values():\n",
    "    os.makedirs(os.path.join(output_root, class_name), exist_ok=True)\n",
    "\n",
    "# 처리 시작\n",
    "label_files = [f for f in os.listdir(label_dir) if f.endswith('.txt')]\n",
    "\n",
    "for label_file in tqdm(label_files, desc=\"분류별 이미지 정리 중\"):\n",
    "    label_path = os.path.join(label_dir, label_file)\n",
    "    with open(label_path, 'r') as f:\n",
    "        line = f.readline().strip()\n",
    "        if not line:\n",
    "            continue\n",
    "        class_id = int(line.split()[0])\n",
    "\n",
    "    if class_id not in class_map:\n",
    "        continue\n",
    "\n",
    "    class_name = class_map[class_id]\n",
    "    base_name = os.path.splitext(label_file)[0]\n",
    "    img_file = base_name + '.jpg'\n",
    "    src_img_path = os.path.join(img_dir, img_file)\n",
    "    dst_img_path = os.path.join(output_root, class_name, img_file)\n",
    "\n",
    "    if os.path.exists(src_img_path):\n",
    "        shutil.copy(src_img_path, dst_img_path)\n",
    "    else:\n",
    "        print(f\"[경고] 이미지 없음: {src_img_path}\")\n"
   ]
  },
  {
   "cell_type": "code",
   "execution_count": 8,
   "metadata": {},
   "outputs": [
    {
     "name": "stderr",
     "output_type": "stream",
     "text": [
      "angry → anger 복사 중: 100%|██████████| 258/258 [00:01<00:00, 133.17it/s]\n",
      "sad → sadness 복사 중: 100%|██████████| 312/312 [00:02<00:00, 146.42it/s]\n",
      "surprised → panic 복사 중: 100%|██████████| 256/256 [00:02<00:00, 125.35it/s]\n",
      "happy → happy 복사 중: 100%|██████████| 387/387 [00:02<00:00, 140.41it/s]\n"
     ]
    }
   ],
   "source": [
    "# 매핑 정의\n",
    "class_mapping = {\n",
    "    'angry': 'anger',\n",
    "    'sad': 'sadness',\n",
    "    'surprised': 'panic',\n",
    "    'happy': 'happy'\n",
    "}\n",
    "\n",
    "# 경로 설정\n",
    "src_root = '/workspace/yoons/data5/cropped_images/val'\n",
    "dst_root = '/workspace/yoons/data/cropped_images/val'\n",
    "\n",
    "# 복사 시작\n",
    "for src_class, dst_class in class_mapping.items():\n",
    "    src_dir = os.path.join(src_root, src_class)\n",
    "    dst_dir = os.path.join(dst_root, dst_class)\n",
    "\n",
    "    os.makedirs(dst_dir, exist_ok=True)\n",
    "\n",
    "    img_files = [f for f in os.listdir(src_dir) if f.lower().endswith(('.jpg', '.jpeg', '.png'))]\n",
    "\n",
    "    for img_file in tqdm(img_files, desc=f\"{src_class} → {dst_class} 복사 중\"):\n",
    "        src_img_path = os.path.join(src_dir, img_file)\n",
    "        dst_img_path = os.path.join(dst_dir, img_file)\n",
    "\n",
    "        # 중복 방지: 동일 이름 파일이 이미 있으면 패스 또는 이름 변경 가능\n",
    "        if os.path.exists(dst_img_path):\n",
    "            base, ext = os.path.splitext(img_file)\n",
    "            count = 1\n",
    "            while os.path.exists(dst_img_path):\n",
    "                new_name = f\"{base}_{count}{ext}\"\n",
    "                dst_img_path = os.path.join(dst_dir, new_name)\n",
    "                count += 1\n",
    "\n",
    "        shutil.copy(src_img_path, dst_img_path)\n"
   ]
  },
  {
   "cell_type": "code",
   "execution_count": null,
   "metadata": {},
   "outputs": [
    {
     "name": "stdout",
     "output_type": "stream",
     "text": [
      "Train cropped images count: 2455\n"
     ]
    }
   ],
   "source": [
    "#수 확인\n",
    "def count_files_in_directory(directory):\n",
    "    return sum(len(files) for _, _, files in os.walk(directory))\n",
    "train_cropped_dir = \"/workspace/yoons/data/cropped_images/val\"\n",
    "train_file_count = count_files_in_directory(train_cropped_dir)\n",
    "print(f\"Train cropped images count: {train_file_count}\")"
   ]
  }
 ],
 "metadata": {
  "accelerator": "GPU",
  "colab": {
   "gpuType": "T4",
   "machine_shape": "hm",
   "provenance": []
  },
  "kernelspec": {
   "display_name": "yoons_env",
   "language": "python",
   "name": "python3"
  },
  "language_info": {
   "codemirror_mode": {
    "name": "ipython",
    "version": 3
   },
   "file_extension": ".py",
   "mimetype": "text/x-python",
   "name": "python",
   "nbconvert_exporter": "python",
   "pygments_lexer": "ipython3",
   "version": "3.10.18"
  }
 },
 "nbformat": 4,
 "nbformat_minor": 4
}
