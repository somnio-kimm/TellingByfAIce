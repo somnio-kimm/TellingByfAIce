{
 "cells": [
  {
   "cell_type": "markdown",
   "metadata": {
    "id": "dXW6W_n5JCql"
   },
   "source": [
    "## 3. 분류기 훈련: efficientnet-b3"
   ]
  },
  {
   "cell_type": "code",
   "execution_count": 1,
   "metadata": {
    "id": "20vccVPK_VIL"
   },
   "outputs": [],
   "source": [
    "#감정 분류기 학습 _ EfficientNet\n",
    "import torch\n",
    "import torch.nn as nn\n",
    "from torchvision import models\n",
    "\n",
    "class EffEmotionClassifier(nn.Module):\n",
    "    def __init__(self, num_classes=4):\n",
    "        super().__init__()\n",
    "        # EfficientNet-b0 불러오기 (사전학습)\n",
    "        base_model = models.efficientnet_b3(pretrained=True)\n",
    "\n",
    "        # Feature extractor 부분만 사용\n",
    "        self.features = base_model.features  #b3: (batch,  1536, 7, 7)   b4: 1792, 7, 7)\n",
    "\n",
    "        # Adaptive Pooling 추가 (출력 크기 맞추기)\n",
    "        self.pooling = nn.AdaptiveAvgPool2d(1)  # (batch, 1536, 1, 1)\n",
    "\n",
    "        # Classifier 정의\n",
    "        self.classifier = nn.Sequential(\n",
    "            nn.Flatten(),                    # (batch, 1536)\n",
    "            nn.Linear(1536, 128),            # EfficientNet-b3의 feature dim = 1536\n",
    "            nn.ReLU(),\n",
    "            nn.Linear(128, num_classes)\n",
    "        )\n",
    "\n",
    "    def forward(self, x):\n",
    "        x = self.features(x)     # (B, 1536, 7, 7)\n",
    "        x = self.pooling(x)      # (B, 1536, 1, 1)\n",
    "        x = self.classifier(x)   # (B, num_classes)\n",
    "        return x\n"
   ]
  },
  {
   "cell_type": "code",
   "execution_count": null,
   "metadata": {
    "colab": {
     "base_uri": "https://localhost:8080/",
     "height": 311
    },
    "id": "ami17cBPOrZi",
    "outputId": "e6a4407c-a4af-49f6-d857-9a58084c14c5"
   },
   "outputs": [
    {
     "name": "stderr",
     "output_type": "stream",
     "text": [
      "/root/miniconda3/envs/yoons_env/lib/python3.10/site-packages/torchvision/models/_utils.py:208: UserWarning: The parameter 'pretrained' is deprecated since 0.13 and may be removed in the future, please use 'weights' instead.\n",
      "  warnings.warn(\n",
      "/root/miniconda3/envs/yoons_env/lib/python3.10/site-packages/torchvision/models/_utils.py:223: UserWarning: Arguments other than a weight enum or `None` for 'weights' are deprecated since 0.13 and may be removed in the future. The current behavior is equivalent to passing `weights=EfficientNet_B3_Weights.IMAGENET1K_V1`. You can also use `weights=EfficientNet_B3_Weights.DEFAULT` to get the most up-to-date weights.\n",
      "  warnings.warn(msg)\n",
      "/root/miniconda3/envs/yoons_env/lib/python3.10/site-packages/torch/optim/lr_scheduler.py:62: UserWarning: The verbose parameter is deprecated. Please use get_last_lr() to access the learning rate.\n",
      "  warnings.warn(\n"
     ]
    },
    {
     "name": "stdout",
     "output_type": "stream",
     "text": [
      "[Epoch 1] Train Loss: 0.5347 | Val Loss: 0.4389 | Val Acc: 0.8428\n",
      "[Epoch 2] Train Loss: 0.3296 | Val Loss: 0.4638 | Val Acc: 0.8371\n",
      "[Epoch 3] Train Loss: 0.2586 | Val Loss: 0.4349 | Val Acc: 0.8521\n",
      "[Epoch 4] Train Loss: 0.2066 | Val Loss: 0.4634 | Val Acc: 0.8562\n",
      "[Epoch 5] Train Loss: 0.1688 | Val Loss: 0.4404 | Val Acc: 0.8692\n",
      "[Epoch 6] Train Loss: 0.1413 | Val Loss: 0.4080 | Val Acc: 0.8766\n",
      "[Epoch 7] Train Loss: 0.1206 | Val Loss: 0.5884 | Val Acc: 0.8550\n",
      "[Epoch 8] Train Loss: 0.1015 | Val Loss: 0.5145 | Val Acc: 0.8688\n",
      "[Epoch 9] Train Loss: 0.0923 | Val Loss: 0.5233 | Val Acc: 0.8554\n",
      "[Epoch 10] Train Loss: 0.0368 | Val Loss: 0.6296 | Val Acc: 0.8640\n",
      "[Epoch 11] Train Loss: 0.0278 | Val Loss: 0.7344 | Val Acc: 0.8709\n",
      "🛑 Early stopping triggered at epoch 11\n"
     ]
    }
   ],
   "source": [
    "####### LR scheduler + early stopper\n",
    "import torch\n",
    "import torch.nn as nn\n",
    "import torch.optim as optim\n",
    "from torch.utils.data import DataLoader\n",
    "from torchvision import datasets, transforms\n",
    "import copy\n",
    "\n",
    "\n",
    "# 감정 분류기 학습 파이프라인\n",
    "\n",
    "## 1. 데이터 전처리 및 로딩\n",
    "\n",
    "# 경로 설정\n",
    "train_dir = \"/workspace/yoons/data/cropped_images/train\"\n",
    "val_dir = \"/workspace/yoons/data/cropped_images/val\"\n",
    "\n",
    "# 이미지 변환 설정\n",
    "transform = transforms.Compose([\n",
    "    transforms.Resize((300, 300)),   #((224, 224)),   b4: ((380, 380))\n",
    "    transforms.RandomHorizontalFlip(),\n",
    "    transforms.RandomRotation(10),\n",
    "    transforms.ColorJitter(brightness=0.2, contrast=0.2, saturation=0.2),\n",
    "    transforms.ToTensor(),\n",
    "    transforms.Normalize(mean=[0.5, 0.5, 0.5], std=[0.5, 0.5, 0.5])  #mean=[0.5]\n",
    "])\n",
    "\n",
    "# 데이터셋 로드\n",
    "train_dataset = datasets.ImageFolder(train_dir, transform=transform)\n",
    "val_dataset = datasets.ImageFolder(val_dir, transform=transform)\n",
    "\n",
    "train_loader = DataLoader(train_dataset, batch_size=32, shuffle=True, num_workers=4)  #bs 전엔 8\n",
    "val_loader = DataLoader(val_dataset, batch_size=32, shuffle=False, num_workers=4)    #bs 8\n",
    "\n",
    "class_names = train_dataset.classes\n",
    "\n",
    "# 2. 모델, loss, optimizer 설정\n",
    "device = torch.device(\"cuda\" if torch.cuda.is_available() else \"cpu\")\n",
    "model = EffEmotionClassifier(num_classes=4).to(device)\n",
    "criterion = nn.CrossEntropyLoss()\n",
    "optimizer = optim.Adam(model.parameters(), lr=0.001)\n",
    "\n",
    "# 🔁 LR scheduler 설정: val loss가 줄지 않으면 LR 줄이기\n",
    "scheduler = optim.lr_scheduler.ReduceLROnPlateau(optimizer, mode='min', factor=0.5, patience=2, verbose=True)\n",
    "\n",
    "# 🛑 Early Stopping 관련 변수\n",
    "patience = 5\n",
    "best_val_loss = float('inf')\n",
    "early_stop_counter = 0\n",
    "best_model_wts = copy.deepcopy(model.state_dict())\n",
    "\n",
    "EPOCHS = 50\n",
    "\n",
    "for epoch in range(EPOCHS):\n",
    "    model.train()\n",
    "    train_loss = 0.0\n",
    "\n",
    "    for inputs, labels in train_loader:\n",
    "        inputs, labels = inputs.to(device), labels.to(device)\n",
    "\n",
    "        optimizer.zero_grad()\n",
    "        outputs = model(inputs)\n",
    "        loss = criterion(outputs, labels)\n",
    "        loss.backward()\n",
    "        optimizer.step()\n",
    "\n",
    "        train_loss += loss.item() * inputs.size(0)\n",
    "\n",
    "    train_loss /= len(train_loader.dataset)\n",
    "\n",
    "    # Validation\n",
    "    model.eval()\n",
    "    val_loss = 0.0\n",
    "    correct = 0\n",
    "\n",
    "    with torch.no_grad():\n",
    "        for inputs, labels in val_loader:\n",
    "            inputs, labels = inputs.to(device), labels.to(device)\n",
    "            outputs = model(inputs)\n",
    "            loss = criterion(outputs, labels)\n",
    "            val_loss += loss.item() * inputs.size(0)\n",
    "            preds = torch.argmax(outputs, dim=1)\n",
    "            correct += (preds == labels).sum().item()\n",
    "\n",
    "    val_loss /= len(val_loader.dataset)\n",
    "    val_acc = correct / len(val_loader.dataset)\n",
    "\n",
    "    print(f\"[Epoch {epoch+1}] Train Loss: {train_loss:.4f} | Val Loss: {val_loss:.4f} | Val Acc: {val_acc:.4f}\")\n",
    "\n",
    "    # Scheduler step\n",
    "    scheduler.step(val_loss)\n",
    "\n",
    "    # Early stopping check\n",
    "    if val_loss < best_val_loss:\n",
    "        best_val_loss = val_loss\n",
    "        best_model_wts = copy.deepcopy(model.state_dict())\n",
    "        early_stop_counter = 0\n",
    "    else:\n",
    "        early_stop_counter += 1\n",
    "        if early_stop_counter >= patience:\n",
    "            print(f\"🛑 Early stopping triggered at epoch {epoch+1}\")\n",
    "            break\n",
    "\n",
    "# 가장 좋은 모델로 복원\n",
    "model.load_state_dict(best_model_wts)\n",
    "\n",
    "\n",
    "# 모델 저장\n",
    "torch.save(model.state_dict(), 'emotion_classifier11_aug_eff_b3_data_added_2.pth')\n",
    "torch.save(model, 'model_emotion_classifier11_aug_eff_b3_data_added_2.pt')\n"
   ]
  },
  {
   "cell_type": "code",
   "execution_count": 3,
   "metadata": {
    "id": "80S98q8LsupY"
   },
   "outputs": [],
   "source": [
    "from sklearn.metrics import classification_report, confusion_matrix\n",
    "import numpy as np\n",
    "import torch\n",
    "\n",
    "def evaluate_model(model, dataloader, class_names, device):\n",
    "    model.eval()\n",
    "    all_preds = []\n",
    "    all_labels = []\n",
    "\n",
    "    with torch.no_grad():\n",
    "        for images, labels in dataloader:\n",
    "            images = images.to(device)\n",
    "            labels = labels.to(device)\n",
    "\n",
    "            outputs = model(images)\n",
    "            _, preds = torch.max(outputs, 1)\n",
    "\n",
    "            all_preds.extend(preds.cpu().numpy())\n",
    "            all_labels.extend(labels.cpu().numpy())\n",
    "\n",
    "    print(\"Confusion Matrix:\")\n",
    "    print(confusion_matrix(all_labels, all_preds))\n",
    "\n",
    "    print(\"\\nClassification Report:\")\n",
    "    print(classification_report(all_labels, all_preds, target_names=class_names))\n"
   ]
  },
  {
   "cell_type": "code",
   "execution_count": 4,
   "metadata": {
    "colab": {
     "base_uri": "https://localhost:8080/"
    },
    "id": "fl9rxzpMs4Hx",
    "outputId": "145c37b9-7b47-4190-b021-f799a51314b1"
   },
   "outputs": [
    {
     "name": "stdout",
     "output_type": "stream",
     "text": [
      "Confusion Matrix:\n",
      "[[484   9  37  40]\n",
      " [  9 662  12   9]\n",
      " [ 49  17 466  34]\n",
      " [ 51   7  29 540]]\n",
      "\n",
      "Classification Report:\n",
      "              precision    recall  f1-score   support\n",
      "\n",
      "          분노       0.82      0.85      0.83       570\n",
      "          기쁨       0.95      0.96      0.95       692\n",
      "          당황       0.86      0.82      0.84       566\n",
      "          슬픔       0.87      0.86      0.86       627\n",
      "\n",
      "    accuracy                           0.88      2455\n",
      "   macro avg       0.87      0.87      0.87      2455\n",
      "weighted avg       0.88      0.88      0.88      2455\n",
      "\n"
     ]
    }
   ],
   "source": [
    "# 클래스 이름 (순서대로!)\n",
    "class_names = [\"분노\", \"기쁨\", \"당황\", \"슬픔\"]\n",
    "\n",
    "# 예: 테스트 dataloader 사용\n",
    "evaluate_model(model, val_loader, class_names, device)\n"
   ]
  }
 ],
 "metadata": {
  "accelerator": "GPU",
  "colab": {
   "gpuType": "T4",
   "machine_shape": "hm",
   "provenance": []
  },
  "kernelspec": {
   "display_name": "yoons_env",
   "language": "python",
   "name": "python3"
  },
  "language_info": {
   "codemirror_mode": {
    "name": "ipython",
    "version": 3
   },
   "file_extension": ".py",
   "mimetype": "text/x-python",
   "name": "python",
   "nbconvert_exporter": "python",
   "pygments_lexer": "ipython3",
   "version": "3.10.18"
  }
 },
 "nbformat": 4,
 "nbformat_minor": 4
}
